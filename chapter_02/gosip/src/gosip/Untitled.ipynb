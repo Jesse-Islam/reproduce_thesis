{
 "cells": [
  {
   "cell_type": "code",
   "execution_count": 16,
   "id": "8b83d4f5-1847-41ca-babe-f4dda56944f0",
   "metadata": {},
   "outputs": [
    {
     "name": "stdout",
     "output_type": "stream",
     "text": [
      "Original t_stats tensor:\n",
      "tensor([[ 0.5000, -2.0000,  3.0000],\n",
      "        [ 1.1000, -4.2000,  0.1000]])\n",
      "\n",
      "Absolute flattened values and their original indices:\n",
      "Index  0: 0.50\n",
      "Index  1: 2.00\n",
      "Index  2: 3.00\n",
      "Index  3: 1.10\n",
      "Index  4: 4.20\n",
      "Index  5: 0.10\n",
      "\n",
      "Indices in descending abs order: [4, 2, 1, 3, 0, 5]\n",
      "Sorted abs values: [4.199999809265137, 3.0, 2.0, 1.100000023841858, 0.5, 0.10000000149011612]\n",
      "\n",
      "Mask (True = keep) reshaped to original shape:\n",
      "tensor([[False,  True,  True],\n",
      "        [False,  True, False]])\n"
     ]
    }
   ],
   "source": [
    "import torch\n",
    "\n",
    "# Define the function as given\n",
    "def bh_tstat_torch_precomputed(t_stats: torch.Tensor, crit: torch.Tensor) -> torch.BoolTensor:\n",
    "    flat = t_stats.flatten()\n",
    "    M = flat.numel()\n",
    "    device = flat.device\n",
    "\n",
    "    abs_flat = flat.abs()\n",
    "    order = torch.argsort(abs_flat, descending=True)\n",
    "    t_desc = abs_flat[order]\n",
    "\n",
    "    hits = t_desc >= crit\n",
    "    keep_flat = torch.zeros(M, dtype=torch.bool, device=device)\n",
    "    if hits.any():\n",
    "        last = torch.nonzero(hits, as_tuple=False).max()\n",
    "        keep_flat[order[: last.item() + 1 ]] = True\n",
    "\n",
    "    return keep_flat.view(t_stats.shape)\n",
    "\n",
    "# Example tensor\n",
    "t_stats = torch.tensor([\n",
    "    [ 0.5, -2.0,  3.0],\n",
    "    [ 1.1, -4.2,  0.1]\n",
    "])\n",
    "\n",
    "crit = torch.tensor(1.5)\n",
    "\n",
    "# Run the mask function\n",
    "mask = bh_tstat_torch_precomputed(t_stats, crit)\n",
    "\n",
    "# Show the results\n",
    "print(\"Original t_stats tensor:\")\n",
    "print(t_stats)\n",
    "print(\"\\nAbsolute flattened values and their original indices:\")\n",
    "abs_flat = t_stats.flatten().abs()\n",
    "for idx, val in enumerate(abs_flat):\n",
    "    print(f\"Index {idx:>2}: {val.item():.2f}\")\n",
    "\n",
    "order = torch.argsort(abs_flat, descending=True)\n",
    "print(\"\\nIndices in descending abs order:\", order.tolist())\n",
    "print(\"Sorted abs values:\", abs_flat[order].tolist())\n",
    "\n",
    "print(\"\\nMask (True = keep) reshaped to original shape:\")\n",
    "print(mask)"
   ]
  },
  {
   "cell_type": "code",
   "execution_count": 11,
   "id": "9a795c27-a722-47c1-9c6d-be8b0566cb83",
   "metadata": {},
   "outputs": [
    {
     "data": {
      "text/plain": [
       "tensor([[ 3.0820, -0.5869, -4.3576,  1.1369],\n",
       "        [-2.1690, -2.7972,  0.8067,  1.6761],\n",
       "        [-1.4385, -0.8067, -1.1933,  0.3641]])"
      ]
     },
     "execution_count": 11,
     "metadata": {},
     "output_type": "execute_result"
    }
   ],
   "source": [
    "t_stats"
   ]
  },
  {
   "cell_type": "code",
   "execution_count": null,
   "id": "bc12b432-159d-47b5-934d-979783bbf6bd",
   "metadata": {},
   "outputs": [],
   "source": []
  }
 ],
 "metadata": {
  "kernelspec": {
   "display_name": "Python 3 (ipykernel)",
   "language": "python",
   "name": "python3"
  },
  "language_info": {
   "codemirror_mode": {
    "name": "ipython",
    "version": 3
   },
   "file_extension": ".py",
   "mimetype": "text/x-python",
   "name": "python",
   "nbconvert_exporter": "python",
   "pygments_lexer": "ipython3",
   "version": "3.10.12"
  }
 },
 "nbformat": 4,
 "nbformat_minor": 5
}
